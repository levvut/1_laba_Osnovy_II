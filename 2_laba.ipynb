{
  "nbformat": 4,
  "nbformat_minor": 0,
  "metadata": {
    "colab": {
      "provenance": [],
      "collapsed_sections": [
        "Odos3DjOTOvQ",
        "hsVN_66kUpan",
        "bcdIPUb2V89e",
        "MeBbzf-LXvVs",
        "apfv7VyqYxIh"
      ],
      "toc_visible": true,
      "authorship_tag": "ABX9TyPYs+wGQbssKaDwOEI4ST6l"
    },
    "kernelspec": {
      "name": "python3",
      "display_name": "Python 3"
    },
    "language_info": {
      "name": "python"
    }
  },
  "cells": [
    {
      "cell_type": "markdown",
      "source": [
        "# 1) Выполните чтение набора данных в объект типа DataFrame, выведите первые пять строк и определите размеры (количество строк и столбцов) набора данных"
      ],
      "metadata": {
        "id": "uryZehuBRiyY"
      }
    },
    {
      "cell_type": "code",
      "source": [
        "import pandas as pd\n",
        "import matplotlib.pyplot as plt\n",
        "import numpy as np\n",
        "import seaborn as sns"
      ],
      "metadata": {
        "id": "tYWrOQHKSMvR"
      },
      "execution_count": null,
      "outputs": []
    },
    {
      "cell_type": "code",
      "source": [
        "ds = pd.read_csv('sample_data/5_Lin_reg_data_set_LR2.csv')\n",
        "ds.shape"
      ],
      "metadata": {
        "colab": {
          "base_uri": "https://localhost:8080/"
        },
        "id": "zHeN63kJRtSi",
        "outputId": "1528858b-2655-4208-c0ba-12e2ef40511d"
      },
      "execution_count": null,
      "outputs": [
        {
          "output_type": "execute_result",
          "data": {
            "text/plain": [
              "(500, 7)"
            ]
          },
          "metadata": {},
          "execution_count": 6
        }
      ]
    },
    {
      "cell_type": "code",
      "source": [
        "ds.rename(columns = {'Unnamed: 0' : 'Number'}, inplace = True)"
      ],
      "metadata": {
        "id": "4sK3d9J0UQjX"
      },
      "execution_count": null,
      "outputs": []
    },
    {
      "cell_type": "code",
      "source": [
        "ds.head(5)"
      ],
      "metadata": {
        "colab": {
          "base_uri": "https://localhost:8080/",
          "height": 206
        },
        "id": "TgL4QC3aS1xM",
        "outputId": "b27698ec-5061-4f33-dae0-f4b209dd8b11"
      },
      "execution_count": null,
      "outputs": [
        {
          "output_type": "execute_result",
          "data": {
            "text/plain": [
              "   Number  Feature_1  Feature_2  Feature_3  Feature_4  Feature_5      target\n",
              "0       0   0.674083   0.579755  -1.058076  -0.665412   0.857527  148.106734\n",
              "1       1   0.827302  -0.481899  -0.036755  -1.136412  -0.446800   -2.393139\n",
              "2       2   0.500231  -0.650857   0.249053  -0.893209  -1.636656  -81.018202\n",
              "3       3  -0.488363  -0.813776   2.281231  -0.467943   0.753307  -70.118624\n",
              "4       4   0.175807   0.102490   1.006412  -0.503076  -0.123210   13.007047"
            ],
            "text/html": [
              "\n",
              "  <div id=\"df-01312fd5-6ffb-4787-92a3-9ed0d2bfb993\">\n",
              "    <div class=\"colab-df-container\">\n",
              "      <div>\n",
              "<style scoped>\n",
              "    .dataframe tbody tr th:only-of-type {\n",
              "        vertical-align: middle;\n",
              "    }\n",
              "\n",
              "    .dataframe tbody tr th {\n",
              "        vertical-align: top;\n",
              "    }\n",
              "\n",
              "    .dataframe thead th {\n",
              "        text-align: right;\n",
              "    }\n",
              "</style>\n",
              "<table border=\"1\" class=\"dataframe\">\n",
              "  <thead>\n",
              "    <tr style=\"text-align: right;\">\n",
              "      <th></th>\n",
              "      <th>Number</th>\n",
              "      <th>Feature_1</th>\n",
              "      <th>Feature_2</th>\n",
              "      <th>Feature_3</th>\n",
              "      <th>Feature_4</th>\n",
              "      <th>Feature_5</th>\n",
              "      <th>target</th>\n",
              "    </tr>\n",
              "  </thead>\n",
              "  <tbody>\n",
              "    <tr>\n",
              "      <th>0</th>\n",
              "      <td>0</td>\n",
              "      <td>0.674083</td>\n",
              "      <td>0.579755</td>\n",
              "      <td>-1.058076</td>\n",
              "      <td>-0.665412</td>\n",
              "      <td>0.857527</td>\n",
              "      <td>148.106734</td>\n",
              "    </tr>\n",
              "    <tr>\n",
              "      <th>1</th>\n",
              "      <td>1</td>\n",
              "      <td>0.827302</td>\n",
              "      <td>-0.481899</td>\n",
              "      <td>-0.036755</td>\n",
              "      <td>-1.136412</td>\n",
              "      <td>-0.446800</td>\n",
              "      <td>-2.393139</td>\n",
              "    </tr>\n",
              "    <tr>\n",
              "      <th>2</th>\n",
              "      <td>2</td>\n",
              "      <td>0.500231</td>\n",
              "      <td>-0.650857</td>\n",
              "      <td>0.249053</td>\n",
              "      <td>-0.893209</td>\n",
              "      <td>-1.636656</td>\n",
              "      <td>-81.018202</td>\n",
              "    </tr>\n",
              "    <tr>\n",
              "      <th>3</th>\n",
              "      <td>3</td>\n",
              "      <td>-0.488363</td>\n",
              "      <td>-0.813776</td>\n",
              "      <td>2.281231</td>\n",
              "      <td>-0.467943</td>\n",
              "      <td>0.753307</td>\n",
              "      <td>-70.118624</td>\n",
              "    </tr>\n",
              "    <tr>\n",
              "      <th>4</th>\n",
              "      <td>4</td>\n",
              "      <td>0.175807</td>\n",
              "      <td>0.102490</td>\n",
              "      <td>1.006412</td>\n",
              "      <td>-0.503076</td>\n",
              "      <td>-0.123210</td>\n",
              "      <td>13.007047</td>\n",
              "    </tr>\n",
              "  </tbody>\n",
              "</table>\n",
              "</div>\n",
              "      <button class=\"colab-df-convert\" onclick=\"convertToInteractive('df-01312fd5-6ffb-4787-92a3-9ed0d2bfb993')\"\n",
              "              title=\"Convert this dataframe to an interactive table.\"\n",
              "              style=\"display:none;\">\n",
              "        \n",
              "  <svg xmlns=\"http://www.w3.org/2000/svg\" height=\"24px\"viewBox=\"0 0 24 24\"\n",
              "       width=\"24px\">\n",
              "    <path d=\"M0 0h24v24H0V0z\" fill=\"none\"/>\n",
              "    <path d=\"M18.56 5.44l.94 2.06.94-2.06 2.06-.94-2.06-.94-.94-2.06-.94 2.06-2.06.94zm-11 1L8.5 8.5l.94-2.06 2.06-.94-2.06-.94L8.5 2.5l-.94 2.06-2.06.94zm10 10l.94 2.06.94-2.06 2.06-.94-2.06-.94-.94-2.06-.94 2.06-2.06.94z\"/><path d=\"M17.41 7.96l-1.37-1.37c-.4-.4-.92-.59-1.43-.59-.52 0-1.04.2-1.43.59L10.3 9.45l-7.72 7.72c-.78.78-.78 2.05 0 2.83L4 21.41c.39.39.9.59 1.41.59.51 0 1.02-.2 1.41-.59l7.78-7.78 2.81-2.81c.8-.78.8-2.07 0-2.86zM5.41 20L4 18.59l7.72-7.72 1.47 1.35L5.41 20z\"/>\n",
              "  </svg>\n",
              "      </button>\n",
              "      \n",
              "  <style>\n",
              "    .colab-df-container {\n",
              "      display:flex;\n",
              "      flex-wrap:wrap;\n",
              "      gap: 12px;\n",
              "    }\n",
              "\n",
              "    .colab-df-convert {\n",
              "      background-color: #E8F0FE;\n",
              "      border: none;\n",
              "      border-radius: 50%;\n",
              "      cursor: pointer;\n",
              "      display: none;\n",
              "      fill: #1967D2;\n",
              "      height: 32px;\n",
              "      padding: 0 0 0 0;\n",
              "      width: 32px;\n",
              "    }\n",
              "\n",
              "    .colab-df-convert:hover {\n",
              "      background-color: #E2EBFA;\n",
              "      box-shadow: 0px 1px 2px rgba(60, 64, 67, 0.3), 0px 1px 3px 1px rgba(60, 64, 67, 0.15);\n",
              "      fill: #174EA6;\n",
              "    }\n",
              "\n",
              "    [theme=dark] .colab-df-convert {\n",
              "      background-color: #3B4455;\n",
              "      fill: #D2E3FC;\n",
              "    }\n",
              "\n",
              "    [theme=dark] .colab-df-convert:hover {\n",
              "      background-color: #434B5C;\n",
              "      box-shadow: 0px 1px 3px 1px rgba(0, 0, 0, 0.15);\n",
              "      filter: drop-shadow(0px 1px 2px rgba(0, 0, 0, 0.3));\n",
              "      fill: #FFFFFF;\n",
              "    }\n",
              "  </style>\n",
              "\n",
              "      <script>\n",
              "        const buttonEl =\n",
              "          document.querySelector('#df-01312fd5-6ffb-4787-92a3-9ed0d2bfb993 button.colab-df-convert');\n",
              "        buttonEl.style.display =\n",
              "          google.colab.kernel.accessAllowed ? 'block' : 'none';\n",
              "\n",
              "        async function convertToInteractive(key) {\n",
              "          const element = document.querySelector('#df-01312fd5-6ffb-4787-92a3-9ed0d2bfb993');\n",
              "          const dataTable =\n",
              "            await google.colab.kernel.invokeFunction('convertToInteractive',\n",
              "                                                     [key], {});\n",
              "          if (!dataTable) return;\n",
              "\n",
              "          const docLinkHtml = 'Like what you see? Visit the ' +\n",
              "            '<a target=\"_blank\" href=https://colab.research.google.com/notebooks/data_table.ipynb>data table notebook</a>'\n",
              "            + ' to learn more about interactive tables.';\n",
              "          element.innerHTML = '';\n",
              "          dataTable['output_type'] = 'display_data';\n",
              "          await google.colab.output.renderOutput(dataTable, element);\n",
              "          const docLink = document.createElement('div');\n",
              "          docLink.innerHTML = docLinkHtml;\n",
              "          element.appendChild(docLink);\n",
              "        }\n",
              "      </script>\n",
              "    </div>\n",
              "  </div>\n",
              "  "
            ]
          },
          "metadata": {},
          "execution_count": 13
        }
      ]
    },
    {
      "cell_type": "markdown",
      "source": [
        "# 2) Определите типы признаков (числовые или категориальные) и проверьте набор данных на наличие пропусков значений"
      ],
      "metadata": {
        "id": "Odos3DjOTOvQ"
      }
    },
    {
      "cell_type": "code",
      "source": [
        "ds.info()"
      ],
      "metadata": {
        "colab": {
          "base_uri": "https://localhost:8080/"
        },
        "id": "ezXSwaMbTSAB",
        "outputId": "6bcc8d18-97c8-47e0-90e3-d402a8ac75e0"
      },
      "execution_count": null,
      "outputs": [
        {
          "output_type": "stream",
          "name": "stdout",
          "text": [
            "<class 'pandas.core.frame.DataFrame'>\n",
            "RangeIndex: 500 entries, 0 to 499\n",
            "Data columns (total 7 columns):\n",
            " #   Column      Non-Null Count  Dtype  \n",
            "---  ------      --------------  -----  \n",
            " 0   Unnamed: 0  500 non-null    int64  \n",
            " 1   Feature_1   500 non-null    float64\n",
            " 2   Feature_2   500 non-null    float64\n",
            " 3   Feature_3   500 non-null    float64\n",
            " 4   Feature_4   500 non-null    float64\n",
            " 5   Feature_5   500 non-null    float64\n",
            " 6   target      500 non-null    float64\n",
            "dtypes: float64(6), int64(1)\n",
            "memory usage: 27.5 KB\n"
          ]
        }
      ]
    },
    {
      "cell_type": "code",
      "source": [
        "cc.isna().sum()"
      ],
      "metadata": {
        "colab": {
          "base_uri": "https://localhost:8080/"
        },
        "id": "ub84AwHnUgCP",
        "outputId": "be73ee08-5bda-483c-97ef-86dbad551207"
      },
      "execution_count": null,
      "outputs": [
        {
          "output_type": "execute_result",
          "data": {
            "text/plain": [
              "Unnamed: 0    0\n",
              "Feature_1     0\n",
              "Feature_2     0\n",
              "Feature_3     0\n",
              "Feature_4     0\n",
              "Feature_5     0\n",
              "target        0\n",
              "dtype: int64"
            ]
          },
          "metadata": {},
          "execution_count": 14
        }
      ]
    },
    {
      "cell_type": "markdown",
      "source": [
        "# 3) С помощью диаграммы pairplot из библиотеки seaborn определите от каких признаков целевая переменная зависит приблизительно линейно"
      ],
      "metadata": {
        "id": "hsVN_66kUpan"
      }
    },
    {
      "cell_type": "code",
      "source": [
        "sns.pairplot(ds, x_vars= ['Feature_1','Feature_2', 'Feature_3', 'Feature_4', 'Feature_5'], y_vars = ['target'])"
      ],
      "metadata": {
        "colab": {
          "base_uri": "https://localhost:8080/",
          "height": 214
        },
        "id": "LFm2dvz9Uri8",
        "outputId": "8e3698a3-d0fd-4499-bc9a-966fbc06edd6"
      },
      "execution_count": null,
      "outputs": [
        {
          "output_type": "execute_result",
          "data": {
            "text/plain": [
              "<seaborn.axisgrid.PairGrid at 0x7f66a640bd90>"
            ]
          },
          "metadata": {},
          "execution_count": 18
        },
        {
          "output_type": "display_data",
          "data": {
            "text/plain": [
              "<Figure size 900x180 with 5 Axes>"
            ],
            "image/png": "[encoded data removed]"
          },
          "metadata": {
            "needs_background": "light"
          }
        }
      ]
    },
    {
      "cell_type": "markdown",
      "source": [
        "# 4) Сохраните значения целевой переменной в отдельный набор данных Y\n",
        "5) создайте набор данных X, содержащий один признак, влияющий линейно на целевую переменную"
      ],
      "metadata": {
        "id": "bcdIPUb2V89e"
      }
    },
    {
      "cell_type": "code",
      "source": [
        "Y = ds[['target']]\n",
        "X = ds[['Feature_2']]"
      ],
      "metadata": {
        "id": "HkzAwZ5yWAjN"
      },
      "execution_count": null,
      "outputs": []
    },
    {
      "cell_type": "markdown",
      "source": [
        "# 6) С помощью функции train_test_split() из библиотеки sklearn выполните разделение наборов данных X и Y на обучающую и тестовую выборки; размер тестовой выборки задайте равным 15% процентам от размера всего набора данных;"
      ],
      "metadata": {
        "id": "ZRhdcCWeW21T"
      }
    },
    {
      "cell_type": "code",
      "source": [
        "from sklearn.model_selection import train_test_split\n",
        "X_train, X_test, Y_train, Y_test = train_test_split(X, Y, test_size = 0.15)"
      ],
      "metadata": {
        "id": "_LsI-UuOW7ys"
      },
      "execution_count": null,
      "outputs": []
    },
    {
      "cell_type": "markdown",
      "source": [
        "# 7) С помощью класса LinearRegression из библиотеки sklearn создайте модель линейно регрессии и выполните ее обучение с использованием обучающей выборки наборов данных X и Y"
      ],
      "metadata": {
        "id": "MeBbzf-LXvVs"
      }
    },
    {
      "cell_type": "code",
      "source": [
        "from sklearn.linear_model import LinearRegression"
      ],
      "metadata": {
        "id": "DOORINUoXyQ2"
      },
      "execution_count": null,
      "outputs": []
    },
    {
      "cell_type": "code",
      "source": [
        "lr = LinearRegression()\n",
        "lr.fit(X_train, Y_train)"
      ],
      "metadata": {
        "colab": {
          "base_uri": "https://localhost:8080/",
          "height": 52
        },
        "id": "1jR4ysNZYTt8",
        "outputId": "2b6f9f28-80f8-4d22-d601-5232ec4858b7"
      },
      "execution_count": null,
      "outputs": [
        {
          "output_type": "execute_result",
          "data": {
            "text/plain": [
              "LinearRegression()"
            ],
            "text/html": [
              "<style>#sk-container-id-1 {color: black;background-color: white;}#sk-container-id-1 pre{padding: 0;}#sk-container-id-1 div.sk-toggleable {background-color: white;}#sk-container-id-1 label.sk-toggleable__label {cursor: pointer;display: block;width: 100%;margin-bottom: 0;padding: 0.3em;box-sizing: border-box;text-align: center;}#sk-container-id-1 label.sk-toggleable__label-arrow:before {content: \"▸\";float: left;margin-right: 0.25em;color: #696969;}#sk-container-id-1 label.sk-toggleable__label-arrow:hover:before {color: black;}#sk-container-id-1 div.sk-estimator:hover label.sk-toggleable__label-arrow:before {color: black;}#sk-container-id-1 div.sk-toggleable__content {max-height: 0;max-width: 0;overflow: hidden;text-align: left;background-color: #f0f8ff;}#sk-container-id-1 div.sk-toggleable__content pre {margin: 0.2em;color: black;border-radius: 0.25em;background-color: #f0f8ff;}#sk-container-id-1 input.sk-toggleable__control:checked~div.sk-toggleable__content {max-height: 200px;max-width: 100%;overflow: auto;}#sk-container-id-1 input.sk-toggleable__control:checked~label.sk-toggleable__label-arrow:before {content: \"▾\";}#sk-container-id-1 div.sk-estimator input.sk-toggleable__control:checked~label.sk-toggleable__label {background-color: #d4ebff;}#sk-container-id-1 div.sk-label input.sk-toggleable__control:checked~label.sk-toggleable__label {background-color: #d4ebff;}#sk-container-id-1 input.sk-hidden--visually {border: 0;clip: rect(1px 1px 1px 1px);clip: rect(1px, 1px, 1px, 1px);height: 1px;margin: -1px;overflow: hidden;padding: 0;position: absolute;width: 1px;}#sk-container-id-1 div.sk-estimator {font-family: monospace;background-color: #f0f8ff;border: 1px dotted black;border-radius: 0.25em;box-sizing: border-box;margin-bottom: 0.5em;}#sk-container-id-1 div.sk-estimator:hover {background-color: #d4ebff;}#sk-container-id-1 div.sk-parallel-item::after {content: \"\";width: 100%;border-bottom: 1px solid gray;flex-grow: 1;}#sk-container-id-1 div.sk-label:hover label.sk-toggleable__label {background-color: #d4ebff;}#sk-container-id-1 div.sk-serial::before {content: \"\";position: absolute;border-left: 1px solid gray;box-sizing: border-box;top: 0;bottom: 0;left: 50%;z-index: 0;}#sk-container-id-1 div.sk-serial {display: flex;flex-direction: column;align-items: center;background-color: white;padding-right: 0.2em;padding-left: 0.2em;position: relative;}#sk-container-id-1 div.sk-item {position: relative;z-index: 1;}#sk-container-id-1 div.sk-parallel {display: flex;align-items: stretch;justify-content: center;background-color: white;position: relative;}#sk-container-id-1 div.sk-item::before, #sk-container-id-1 div.sk-parallel-item::before {content: \"\";position: absolute;border-left: 1px solid gray;box-sizing: border-box;top: 0;bottom: 0;left: 50%;z-index: -1;}#sk-container-id-1 div.sk-parallel-item {display: flex;flex-direction: column;z-index: 1;position: relative;background-color: white;}#sk-container-id-1 div.sk-parallel-item:first-child::after {align-self: flex-end;width: 50%;}#sk-container-id-1 div.sk-parallel-item:last-child::after {align-self: flex-start;width: 50%;}#sk-container-id-1 div.sk-parallel-item:only-child::after {width: 0;}#sk-container-id-1 div.sk-dashed-wrapped {border: 1px dashed gray;margin: 0 0.4em 0.5em 0.4em;box-sizing: border-box;padding-bottom: 0.4em;background-color: white;}#sk-container-id-1 div.sk-label label {font-family: monospace;font-weight: bold;display: inline-block;line-height: 1.2em;}#sk-container-id-1 div.sk-label-container {text-align: center;}#sk-container-id-1 div.sk-container {/* jupyter's `normalize.less` sets `[hidden] { display: none; }` but bootstrap.min.css set `[hidden] { display: none !important; }` so we also need the `!important` here to be able to override the default hidden behavior on the sphinx rendered scikit-learn.org. See: https://github.com/scikit-learn/scikit-learn/issues/21755 */display: inline-block !important;position: relative;}#sk-container-id-1 div.sk-text-repr-fallback {display: none;}</style><div id=\"sk-container-id-1\" class=\"sk-top-container\"><div class=\"sk-text-repr-fallback\"><pre>LinearRegression()</pre><b>In a Jupyter environment, please rerun this cell to show the HTML representation or trust the notebook. <br />On GitHub, the HTML representation is unable to render, please try loading this page with nbviewer.org.</b></div><div class=\"sk-container\" hidden><div class=\"sk-item\"><div class=\"sk-estimator sk-toggleable\"><input class=\"sk-toggleable__control sk-hidden--visually\" id=\"sk-estimator-id-1\" type=\"checkbox\" checked><label for=\"sk-estimator-id-1\" class=\"sk-toggleable__label sk-toggleable__label-arrow\">LinearRegression</label><div class=\"sk-toggleable__content\"><pre>LinearRegression()</pre></div></div></div></div></div>"
            ]
          },
          "metadata": {},
          "execution_count": 25
        }
      ]
    },
    {
      "cell_type": "markdown",
      "source": [
        "# 8) Выведите значения коэффициентов модели линейной регрессии; "
      ],
      "metadata": {
        "id": "58gvktlWYuPd"
      }
    },
    {
      "cell_type": "code",
      "source": [
        "lr.coef_, lr.intercept_"
      ],
      "metadata": {
        "colab": {
          "base_uri": "https://localhost:8080/"
        },
        "id": "nMBUbslGZRLy",
        "outputId": "f88bc61a-9d84-4386-c170-f89ad36ac447"
      },
      "execution_count": null,
      "outputs": [
        {
          "output_type": "execute_result",
          "data": {
            "text/plain": [
              "(array([[81.07801593]]), array([4.70605755]))"
            ]
          },
          "metadata": {},
          "execution_count": 26
        }
      ]
    },
    {
      "cell_type": "markdown",
      "source": [
        "# 9) Выполните графическое построение функции линейной регрессии вместе с точечной диаграммой, связывающей признаки обучающей выборки и целевую переменную;\n",
        "10) выполните графическое построение функции линейной регрессии вместе\n",
        "с точечной диаграммой, связывающей признаки тестовой выборки и целевую переменную; "
      ],
      "metadata": {
        "id": "apfv7VyqYxIh"
      }
    },
    {
      "cell_type": "code",
      "source": [
        "plt.scatter(X_train, Y_train)\n",
        "\n",
        "def lin_F(x, lr = lr):\n",
        "  return lr.coef_ * x + lr.intercept_\n",
        "\n",
        "m = [[-3],\n",
        "     [-2],\n",
        "     [-1],\n",
        "     [0],\n",
        "     [1],\n",
        "     [2]]\n",
        "plt.plot(m, lin_F(m), c = 'r', label = 'train')\n",
        "plt.xlabel('Feature_2')\n",
        "plt.ylabel('target')\n",
        "plt.legend()\n",
        "plt.show()"
      ],
      "metadata": {
        "colab": {
          "base_uri": "https://localhost:8080/",
          "height": 280
        },
        "id": "WthmZOAgZkP0",
        "outputId": "f6d43129-8eab-45d6-82a5-062f7e405236"
      },
      "execution_count": null,
      "outputs": [
        {
          "output_type": "display_data",
          "data": {
            "text/plain": [
              "<Figure size 432x288 with 1 Axes>"
            ],
            "image/png": "[encoded data removed]"
          },
          "metadata": {
            "needs_background": "light"
          }
        }
      ]
    },
    {
      "cell_type": "code",
      "source": [
        "plt.scatter(X_test, Y_test)\n",
        "\n",
        "def lin_F(x, lr = lr):\n",
        "  return lr.coef_ * x + lr.intercept_\n",
        "\n",
        "m1 = [[-2],\n",
        "     [-1],\n",
        "     [0],\n",
        "     [1],\n",
        "     [2]]\n",
        "plt.plot(m1, lin_F(m1), c = 'r', label = 'test')\n",
        "plt.xlabel('Feature_2')\n",
        "plt.ylabel('target')\n",
        "plt.legend()\n",
        "plt.show()"
      ],
      "metadata": {
        "colab": {
          "base_uri": "https://localhost:8080/",
          "height": 280
        },
        "id": "zt1Fb1gntowZ",
        "outputId": "2dd1145e-cf30-4b02-f505-e5acb6aca266"
      },
      "execution_count": null,
      "outputs": [
        {
          "output_type": "display_data",
          "data": {
            "text/plain": [
              "<Figure size 432x288 with 1 Axes>"
            ],
            "image/png": "[encoded data removed]"
          },
          "metadata": {
            "needs_background": "light"
          }
        }
      ]
    },
    {
      "cell_type": "markdown",
      "source": [
        "# 11) выполните предсказание значений целевой переменной для обучающей и тестовой выборок с помощью обученной модели линейной регрессии;\n",
        "\n",
        "12) выполните визуализацию ошибок модели линейной регрессии для первых 5 объектов тестовой выборки;\n",
        "\n",
        "13) выполните расчет метрик качества MAE и MSE для обучающей и тестовой выборок;\n",
        "\n"
      ],
      "metadata": {
        "id": "o1mVRNYbY4x0"
      }
    },
    {
      "cell_type": "code",
      "source": [
        "Y_test_predicted = lr.predict(X_test)\n",
        "Y_train_predicted = lr.predict(X_train)"
      ],
      "metadata": {
        "id": "pV44mTTjt4jC"
      },
      "execution_count": null,
      "outputs": []
    },
    {
      "cell_type": "code",
      "source": [
        "plt.scatter(X_test[:5], Y_test[:5], label = 'Реальные данные')\n",
        "plt.scatter(X_test[:5], Y_test_predicted[:5], label = 'Ответ модели')\n",
        "plt.plot(m1, lin_F(m1), c = 'r')\n",
        "plt.xlabel('Feature_2')\n",
        "plt.ylabel('target')\n",
        "plt.legend()\n",
        "plt.show()"
      ],
      "metadata": {
        "colab": {
          "base_uri": "https://localhost:8080/",
          "height": 280
        },
        "id": "m6OTyKgluaW8",
        "outputId": "7f570320-16fb-46dd-e9ce-74c024f2edb6"
      },
      "execution_count": null,
      "outputs": [
        {
          "output_type": "display_data",
          "data": {
            "text/plain": [
              "<Figure size 432x288 with 1 Axes>"
            ],
            "image/png": "[encoded data removed]"
          },
          "metadata": {
            "needs_background": "light"
          }
        }
      ]
    },
    {
      "cell_type": "code",
      "source": [
        "from sklearn.metrics import mean_absolute_error, mean_squared_error\n",
        "mean_absolute_error(Y_train,Y_train_predicted), mean_absolute_error(Y_test,Y_test_predicted)"
      ],
      "metadata": {
        "colab": {
          "base_uri": "https://localhost:8080/"
        },
        "id": "v4-RVjKJvqqA",
        "outputId": "4fba975a-9c3d-4856-c814-c990c330f59e"
      },
      "execution_count": null,
      "outputs": [
        {
          "output_type": "execute_result",
          "data": {
            "text/plain": [
              "(63.15001768895849, 68.48124191338631)"
            ]
          },
          "metadata": {},
          "execution_count": 163
        }
      ]
    },
    {
      "cell_type": "code",
      "source": [
        "mean_squared_error(Y_train,Y_train_predicted), mean_squared_error(Y_test,Y_test_predicted)"
      ],
      "metadata": {
        "colab": {
          "base_uri": "https://localhost:8080/"
        },
        "id": "xmrA5pjqwLPc",
        "outputId": "bdad81a3-0dac-4b75-b29f-284623e90407"
      },
      "execution_count": null,
      "outputs": [
        {
          "output_type": "execute_result",
          "data": {
            "text/plain": [
              "(6019.27779532438, 7020.8287013995)"
            ]
          },
          "metadata": {},
          "execution_count": 164
        }
      ]
    },
    {
      "cell_type": "markdown",
      "source": [
        "# 14) повторите п. 5-13 для случая предсказания целевой переменной по двум признакам и для случая предсказания целевой переменной по всем признакам набора данных по аналогии с примерами из п.2.3.3 и п.2.3.4. "
      ],
      "metadata": {
        "id": "PIfFZhYXvfDH"
      }
    },
    {
      "cell_type": "code",
      "source": [
        "X2 = ds.drop(columns = ['Number', 'Feature_3', 'Feature_4', 'Feature_5', 'target'])\n",
        "Y2 = ds['target']"
      ],
      "metadata": {
        "id": "KnJvqCsO3Xyt"
      },
      "execution_count": 165,
      "outputs": []
    },
    {
      "cell_type": "code",
      "source": [
        "X2_train, X2_test, Y2_train, Y2_test = train_test_split(X2, Y2, test_size = 0.15)\n",
        "lr2 = LinearRegression()\n",
        "lr2.fit(X2_train, Y2_train)\n",
        "lr2.coef_, lr2.intercept_"
      ],
      "metadata": {
        "colab": {
          "base_uri": "https://localhost:8080/"
        },
        "id": "6KnpiLJn38r3",
        "outputId": "0bb0a353-1446-4fa4-ca77-dd58e1fd4ce6"
      },
      "execution_count": 167,
      "outputs": [
        {
          "output_type": "execute_result",
          "data": {
            "text/plain": [
              "(array([67.49369487, 81.24437761]), -0.36774064925447414)"
            ]
          },
          "metadata": {},
          "execution_count": 167
        }
      ]
    },
    {
      "cell_type": "code",
      "source": [
        "fig = plt.figure(figsize = (7,7))\n",
        "ax = fig.add_subplot(projection = '3d')\n",
        "\n",
        "ax.scatter(X2_train['Feature_1'], X2_train['Feature_2'], Y2_train, marker = 'o')\n",
        "ax.set_xlabel('Признак 1')\n",
        "ax.set_ylabel('Признак 2')\n",
        "ax.set_zlabel('Цель')\n",
        "\n",
        "x_1d_values = np.linspace(X2_train['Feature_1'].min(), X2_train['Feature_1'].max())\n",
        "y_1d_values = np.linspace(X2_train['Feature_2'].min(), X2_train['Feature_2'].max())\n",
        "x_2d, y_2d = np.meshgrid(x_1d_values, y_1d_values)\n",
        "z = lr2.coef_[0]*x_2d + lr2.coef_[1]*y_2d +lr2.intercept_\n",
        "\n",
        "ax.plot_surface(x_2d, y_2d, z, alpha = 0.3)\n",
        "\n",
        "ax.view_init(30, 0, vertical_axis = 'z')\n",
        "plt.show()"
      ],
      "metadata": {
        "colab": {
          "base_uri": "https://localhost:8080/",
          "height": 411
        },
        "id": "YHFREO_o40Ig",
        "outputId": "cebfce57-5996-459b-a3f8-5cd7e32c7790"
      },
      "execution_count": 178,
      "outputs": [
        {
          "output_type": "display_data",
          "data": {
            "text/plain": [
              "<Figure size 504x504 with 1 Axes>"
            ],
            "image/png": "[encoded data removed]"
          },
          "metadata": {
            "needs_background": "light"
          }
        }
      ]
    },
    {
      "cell_type": "code",
      "source": [
        "Y2_test_predicted = lr2.predict(X2_test)\n",
        "Y2_train_predicted = lr2.predict(X2_train)\n",
        "mean_squared_error(Y2_train,Y2_train_predicted), mean_squared_error(Y2_test,Y2_test_predicted)"
      ],
      "metadata": {
        "colab": {
          "base_uri": "https://localhost:8080/"
        },
        "id": "fUndvsuh8fIY",
        "outputId": "889df120-63b3-44b1-ea33-54188312cab3"
      },
      "execution_count": 180,
      "outputs": [
        {
          "output_type": "execute_result",
          "data": {
            "text/plain": [
              "(1754.0049544802412, 1795.5177621630928)"
            ]
          },
          "metadata": {},
          "execution_count": 180
        }
      ]
    },
    {
      "cell_type": "code",
      "source": [
        "mean_absolute_error(Y_train,Y_train_predicted), mean_absolute_error(Y_test,Y_test_predicted)"
      ],
      "metadata": {
        "colab": {
          "base_uri": "https://localhost:8080/"
        },
        "id": "h3yFw_Be-32-",
        "outputId": "68ee33fd-b9e3-43b4-89be-a03f5e6f8335"
      },
      "execution_count": 188,
      "outputs": [
        {
          "output_type": "execute_result",
          "data": {
            "text/plain": [
              "(63.15001768895849, 68.48124191338631)"
            ]
          },
          "metadata": {},
          "execution_count": 188
        }
      ]
    },
    {
      "cell_type": "code",
      "source": [
        "ds2 = pd.get_dummies(ds)\n",
        "ds2.head(10)"
      ],
      "metadata": {
        "colab": {
          "base_uri": "https://localhost:8080/",
          "height": 363
        },
        "id": "vYwByeoE9eXq",
        "outputId": "4641d9de-030b-4fee-ac69-3ea0fe9f6558"
      },
      "execution_count": 182,
      "outputs": [
        {
          "output_type": "execute_result",
          "data": {
            "text/plain": [
              "   Number  Feature_1  Feature_2  Feature_3  Feature_4  Feature_5      target\n",
              "0       0   0.674083   0.579755  -1.058076  -0.665412   0.857527  148.106734\n",
              "1       1   0.827302  -0.481899  -0.036755  -1.136412  -0.446800   -2.393139\n",
              "2       2   0.500231  -0.650857   0.249053  -0.893209  -1.636656  -81.018202\n",
              "3       3  -0.488363  -0.813776   2.281231  -0.467943   0.753307  -70.118624\n",
              "4       4   0.175807   0.102490   1.006412  -0.503076  -0.123210   13.007047\n",
              "5       5  -1.861904  -0.587932   0.647617  -0.582654  -0.383947 -207.793615\n",
              "6       6   0.858985   1.124214  -2.208796   0.491940   0.934072  188.513273\n",
              "7       7  -0.211756   0.689726   1.472528   1.096400  -0.178785   31.704301\n",
              "8       8  -0.564478   0.180926  -0.912560  -1.058603   0.297211  -11.623145\n",
              "9       9   0.833402  -1.101006  -0.163183   0.153328   1.125325   13.342924"
            ],
            "text/html": [
              "\n",
              "  <div id=\"df-e9c48285-ba43-4f54-bb22-88d39fd7a5ef\">\n",
              "    <div class=\"colab-df-container\">\n",
              "      <div>\n",
              "<style scoped>\n",
              "    .dataframe tbody tr th:only-of-type {\n",
              "        vertical-align: middle;\n",
              "    }\n",
              "\n",
              "    .dataframe tbody tr th {\n",
              "        vertical-align: top;\n",
              "    }\n",
              "\n",
              "    .dataframe thead th {\n",
              "        text-align: right;\n",
              "    }\n",
              "</style>\n",
              "<table border=\"1\" class=\"dataframe\">\n",
              "  <thead>\n",
              "    <tr style=\"text-align: right;\">\n",
              "      <th></th>\n",
              "      <th>Number</th>\n",
              "      <th>Feature_1</th>\n",
              "      <th>Feature_2</th>\n",
              "      <th>Feature_3</th>\n",
              "      <th>Feature_4</th>\n",
              "      <th>Feature_5</th>\n",
              "      <th>target</th>\n",
              "    </tr>\n",
              "  </thead>\n",
              "  <tbody>\n",
              "    <tr>\n",
              "      <th>0</th>\n",
              "      <td>0</td>\n",
              "      <td>0.674083</td>\n",
              "      <td>0.579755</td>\n",
              "      <td>-1.058076</td>\n",
              "      <td>-0.665412</td>\n",
              "      <td>0.857527</td>\n",
              "      <td>148.106734</td>\n",
              "    </tr>\n",
              "    <tr>\n",
              "      <th>1</th>\n",
              "      <td>1</td>\n",
              "      <td>0.827302</td>\n",
              "      <td>-0.481899</td>\n",
              "      <td>-0.036755</td>\n",
              "      <td>-1.136412</td>\n",
              "      <td>-0.446800</td>\n",
              "      <td>-2.393139</td>\n",
              "    </tr>\n",
              "    <tr>\n",
              "      <th>2</th>\n",
              "      <td>2</td>\n",
              "      <td>0.500231</td>\n",
              "      <td>-0.650857</td>\n",
              "      <td>0.249053</td>\n",
              "      <td>-0.893209</td>\n",
              "      <td>-1.636656</td>\n",
              "      <td>-81.018202</td>\n",
              "    </tr>\n",
              "    <tr>\n",
              "      <th>3</th>\n",
              "      <td>3</td>\n",
              "      <td>-0.488363</td>\n",
              "      <td>-0.813776</td>\n",
              "      <td>2.281231</td>\n",
              "      <td>-0.467943</td>\n",
              "      <td>0.753307</td>\n",
              "      <td>-70.118624</td>\n",
              "    </tr>\n",
              "    <tr>\n",
              "      <th>4</th>\n",
              "      <td>4</td>\n",
              "      <td>0.175807</td>\n",
              "      <td>0.102490</td>\n",
              "      <td>1.006412</td>\n",
              "      <td>-0.503076</td>\n",
              "      <td>-0.123210</td>\n",
              "      <td>13.007047</td>\n",
              "    </tr>\n",
              "    <tr>\n",
              "      <th>5</th>\n",
              "      <td>5</td>\n",
              "      <td>-1.861904</td>\n",
              "      <td>-0.587932</td>\n",
              "      <td>0.647617</td>\n",
              "      <td>-0.582654</td>\n",
              "      <td>-0.383947</td>\n",
              "      <td>-207.793615</td>\n",
              "    </tr>\n",
              "    <tr>\n",
              "      <th>6</th>\n",
              "      <td>6</td>\n",
              "      <td>0.858985</td>\n",
              "      <td>1.124214</td>\n",
              "      <td>-2.208796</td>\n",
              "      <td>0.491940</td>\n",
              "      <td>0.934072</td>\n",
              "      <td>188.513273</td>\n",
              "    </tr>\n",
              "    <tr>\n",
              "      <th>7</th>\n",
              "      <td>7</td>\n",
              "      <td>-0.211756</td>\n",
              "      <td>0.689726</td>\n",
              "      <td>1.472528</td>\n",
              "      <td>1.096400</td>\n",
              "      <td>-0.178785</td>\n",
              "      <td>31.704301</td>\n",
              "    </tr>\n",
              "    <tr>\n",
              "      <th>8</th>\n",
              "      <td>8</td>\n",
              "      <td>-0.564478</td>\n",
              "      <td>0.180926</td>\n",
              "      <td>-0.912560</td>\n",
              "      <td>-1.058603</td>\n",
              "      <td>0.297211</td>\n",
              "      <td>-11.623145</td>\n",
              "    </tr>\n",
              "    <tr>\n",
              "      <th>9</th>\n",
              "      <td>9</td>\n",
              "      <td>0.833402</td>\n",
              "      <td>-1.101006</td>\n",
              "      <td>-0.163183</td>\n",
              "      <td>0.153328</td>\n",
              "      <td>1.125325</td>\n",
              "      <td>13.342924</td>\n",
              "    </tr>\n",
              "  </tbody>\n",
              "</table>\n",
              "</div>\n",
              "      <button class=\"colab-df-convert\" onclick=\"convertToInteractive('df-e9c48285-ba43-4f54-bb22-88d39fd7a5ef')\"\n",
              "              title=\"Convert this dataframe to an interactive table.\"\n",
              "              style=\"display:none;\">\n",
              "        \n",
              "  <svg xmlns=\"http://www.w3.org/2000/svg\" height=\"24px\"viewBox=\"0 0 24 24\"\n",
              "       width=\"24px\">\n",
              "    <path d=\"M0 0h24v24H0V0z\" fill=\"none\"/>\n",
              "    <path d=\"M18.56 5.44l.94 2.06.94-2.06 2.06-.94-2.06-.94-.94-2.06-.94 2.06-2.06.94zm-11 1L8.5 8.5l.94-2.06 2.06-.94-2.06-.94L8.5 2.5l-.94 2.06-2.06.94zm10 10l.94 2.06.94-2.06 2.06-.94-2.06-.94-.94-2.06-.94 2.06-2.06.94z\"/><path d=\"M17.41 7.96l-1.37-1.37c-.4-.4-.92-.59-1.43-.59-.52 0-1.04.2-1.43.59L10.3 9.45l-7.72 7.72c-.78.78-.78 2.05 0 2.83L4 21.41c.39.39.9.59 1.41.59.51 0 1.02-.2 1.41-.59l7.78-7.78 2.81-2.81c.8-.78.8-2.07 0-2.86zM5.41 20L4 18.59l7.72-7.72 1.47 1.35L5.41 20z\"/>\n",
              "  </svg>\n",
              "      </button>\n",
              "      \n",
              "  <style>\n",
              "    .colab-df-container {\n",
              "      display:flex;\n",
              "      flex-wrap:wrap;\n",
              "      gap: 12px;\n",
              "    }\n",
              "\n",
              "    .colab-df-convert {\n",
              "      background-color: #E8F0FE;\n",
              "      border: none;\n",
              "      border-radius: 50%;\n",
              "      cursor: pointer;\n",
              "      display: none;\n",
              "      fill: #1967D2;\n",
              "      height: 32px;\n",
              "      padding: 0 0 0 0;\n",
              "      width: 32px;\n",
              "    }\n",
              "\n",
              "    .colab-df-convert:hover {\n",
              "      background-color: #E2EBFA;\n",
              "      box-shadow: 0px 1px 2px rgba(60, 64, 67, 0.3), 0px 1px 3px 1px rgba(60, 64, 67, 0.15);\n",
              "      fill: #174EA6;\n",
              "    }\n",
              "\n",
              "    [theme=dark] .colab-df-convert {\n",
              "      background-color: #3B4455;\n",
              "      fill: #D2E3FC;\n",
              "    }\n",
              "\n",
              "    [theme=dark] .colab-df-convert:hover {\n",
              "      background-color: #434B5C;\n",
              "      box-shadow: 0px 1px 3px 1px rgba(0, 0, 0, 0.15);\n",
              "      filter: drop-shadow(0px 1px 2px rgba(0, 0, 0, 0.3));\n",
              "      fill: #FFFFFF;\n",
              "    }\n",
              "  </style>\n",
              "\n",
              "      <script>\n",
              "        const buttonEl =\n",
              "          document.querySelector('#df-e9c48285-ba43-4f54-bb22-88d39fd7a5ef button.colab-df-convert');\n",
              "        buttonEl.style.display =\n",
              "          google.colab.kernel.accessAllowed ? 'block' : 'none';\n",
              "\n",
              "        async function convertToInteractive(key) {\n",
              "          const element = document.querySelector('#df-e9c48285-ba43-4f54-bb22-88d39fd7a5ef');\n",
              "          const dataTable =\n",
              "            await google.colab.kernel.invokeFunction('convertToInteractive',\n",
              "                                                     [key], {});\n",
              "          if (!dataTable) return;\n",
              "\n",
              "          const docLinkHtml = 'Like what you see? Visit the ' +\n",
              "            '<a target=\"_blank\" href=https://colab.research.google.com/notebooks/data_table.ipynb>data table notebook</a>'\n",
              "            + ' to learn more about interactive tables.';\n",
              "          element.innerHTML = '';\n",
              "          dataTable['output_type'] = 'display_data';\n",
              "          await google.colab.output.renderOutput(dataTable, element);\n",
              "          const docLink = document.createElement('div');\n",
              "          docLink.innerHTML = docLinkHtml;\n",
              "          element.appendChild(docLink);\n",
              "        }\n",
              "      </script>\n",
              "    </div>\n",
              "  </div>\n",
              "  "
            ]
          },
          "metadata": {},
          "execution_count": 182
        }
      ]
    },
    {
      "cell_type": "code",
      "source": [
        "Xa = ds.drop(columns = ['target'])\n",
        "Ya = ds['target']\n",
        "Xa_train, Xa_test, Ya_train, Ya_test = train_test_split(Xa, Ya, test_size = 0.15)"
      ],
      "metadata": {
        "id": "k7KbDLGb9tOu"
      },
      "execution_count": 184,
      "outputs": []
    },
    {
      "cell_type": "code",
      "source": [
        "lra = LinearRegression()\n",
        "lra.fit(Xa_train, Ya_train)\n",
        "lra.coef_, lra.intercept_"
      ],
      "metadata": {
        "colab": {
          "base_uri": "https://localhost:8080/"
        },
        "id": "CIpho7lY94G_",
        "outputId": "9cb026cc-1599-4d32-ac60-4d47fa38dc9a"
      },
      "execution_count": 185,
      "outputs": [
        {
          "output_type": "execute_result",
          "data": {
            "text/plain": [
              "(array([ 2.12451490e-03,  6.90047945e+01,  8.22115662e+01,  6.04127001e-01,\n",
              "        -1.00516185e-01,  4.13741759e+01]), -0.5474898186048369)"
            ]
          },
          "metadata": {},
          "execution_count": 185
        }
      ]
    },
    {
      "cell_type": "code",
      "source": [
        "Ya_test_predicted = lra.predict(Xa_test)\n",
        "Ya_train_predicted = lra.predict(Xa_train)\n",
        "mean_squared_error(Ya_train,Ya_train_predicted), mean_squared_error(Ya_test,Ya_test_predicted)"
      ],
      "metadata": {
        "colab": {
          "base_uri": "https://localhost:8080/"
        },
        "id": "_9h9yp_Z-Pfn",
        "outputId": "19529b71-1a5d-42a9-ba10-6f71409f8243"
      },
      "execution_count": 187,
      "outputs": [
        {
          "output_type": "execute_result",
          "data": {
            "text/plain": [
              "(94.11870200750451, 95.18967458241218)"
            ]
          },
          "metadata": {},
          "execution_count": 187
        }
      ]
    },
    {
      "cell_type": "code",
      "source": [
        "mean_absolute_error(Ya_train,Ya_train_predicted), mean_absolute_error(Ya_test,Ya_test_predicted)"
      ],
      "metadata": {
        "colab": {
          "base_uri": "https://localhost:8080/"
        },
        "id": "4Avb4C9n-XJO",
        "outputId": "2b3055ee-bab3-4e42-a7e4-552585b7e3d8"
      },
      "execution_count": 189,
      "outputs": [
        {
          "output_type": "execute_result",
          "data": {
            "text/plain": [
              "(7.777840250861182, 7.74988028996952)"
            ]
          },
          "metadata": {},
          "execution_count": 189
        }
      ]
    }
  ]
}